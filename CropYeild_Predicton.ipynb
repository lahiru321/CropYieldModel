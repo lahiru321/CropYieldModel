{
 "cells": [
  {
   "cell_type": "code",
   "execution_count": 1,
   "id": "b198705e-4944-43ae-ae29-11c88ea451e8",
   "metadata": {},
   "outputs": [],
   "source": [
    "import pandas as pd\n",
    "import numpy as np\n",
    "# Machine Learning Libraries\n",
    "from sklearn.preprocessing import StandardScaler,OneHotEncoder\n",
    "from sklearn.compose import ColumnTransformer\n",
    "from sklearn.model_selection import train_test_split\n",
    "from sklearn.linear_model import LinearRegression,Lasso,Ridge\n",
    "from sklearn.tree import DecisionTreeRegressor\n",
    "from sklearn.neighbors import KNeighborsRegressor\n",
    "from sklearn.metrics import mean_absolute_error,mean_squared_error,r2_score\n",
    "# warranings\n",
    "import warnings\n",
    "warnings.filterwarnings('ignore')\n",
    "# display all rows and columns\n",
    "pd.set_option('display.max_columns',None)\n",
    "pd.set_option('display.max_rows', None)"
   ]
  },
  {
   "cell_type": "code",
   "execution_count": 9,
   "id": "8cb24e12-6a67-461b-a6da-b13e22955132",
   "metadata": {},
   "outputs": [],
   "source": [
    "df = pd.read_csv('C:/Users/User/Desktop/ML PROJECT/yield_df.csv')"
   ]
  },
  {
   "cell_type": "code",
   "execution_count": 10,
   "id": "84bac1b1-ac04-4c34-b580-79df8e3003ae",
   "metadata": {},
   "outputs": [
    {
     "data": {
      "text/html": [
       "<div>\n",
       "<style scoped>\n",
       "    .dataframe tbody tr th:only-of-type {\n",
       "        vertical-align: middle;\n",
       "    }\n",
       "\n",
       "    .dataframe tbody tr th {\n",
       "        vertical-align: top;\n",
       "    }\n",
       "\n",
       "    .dataframe thead th {\n",
       "        text-align: right;\n",
       "    }\n",
       "</style>\n",
       "<table border=\"1\" class=\"dataframe\">\n",
       "  <thead>\n",
       "    <tr style=\"text-align: right;\">\n",
       "      <th></th>\n",
       "      <th>Unnamed: 0</th>\n",
       "      <th>Area</th>\n",
       "      <th>Item</th>\n",
       "      <th>Year</th>\n",
       "      <th>hg/ha_yield</th>\n",
       "      <th>average_rain_fall_mm_per_year</th>\n",
       "      <th>pesticides_tonnes</th>\n",
       "      <th>avg_temp</th>\n",
       "    </tr>\n",
       "  </thead>\n",
       "  <tbody>\n",
       "    <tr>\n",
       "      <th>0</th>\n",
       "      <td>0</td>\n",
       "      <td>Albania</td>\n",
       "      <td>Maize</td>\n",
       "      <td>1990</td>\n",
       "      <td>36613</td>\n",
       "      <td>1485.0</td>\n",
       "      <td>121.0</td>\n",
       "      <td>16.37</td>\n",
       "    </tr>\n",
       "    <tr>\n",
       "      <th>1</th>\n",
       "      <td>1</td>\n",
       "      <td>Albania</td>\n",
       "      <td>Potatoes</td>\n",
       "      <td>1990</td>\n",
       "      <td>66667</td>\n",
       "      <td>1485.0</td>\n",
       "      <td>121.0</td>\n",
       "      <td>16.37</td>\n",
       "    </tr>\n",
       "    <tr>\n",
       "      <th>2</th>\n",
       "      <td>2</td>\n",
       "      <td>Albania</td>\n",
       "      <td>Rice, paddy</td>\n",
       "      <td>1990</td>\n",
       "      <td>23333</td>\n",
       "      <td>1485.0</td>\n",
       "      <td>121.0</td>\n",
       "      <td>16.37</td>\n",
       "    </tr>\n",
       "    <tr>\n",
       "      <th>3</th>\n",
       "      <td>3</td>\n",
       "      <td>Albania</td>\n",
       "      <td>Sorghum</td>\n",
       "      <td>1990</td>\n",
       "      <td>12500</td>\n",
       "      <td>1485.0</td>\n",
       "      <td>121.0</td>\n",
       "      <td>16.37</td>\n",
       "    </tr>\n",
       "    <tr>\n",
       "      <th>4</th>\n",
       "      <td>4</td>\n",
       "      <td>Albania</td>\n",
       "      <td>Soybeans</td>\n",
       "      <td>1990</td>\n",
       "      <td>7000</td>\n",
       "      <td>1485.0</td>\n",
       "      <td>121.0</td>\n",
       "      <td>16.37</td>\n",
       "    </tr>\n",
       "  </tbody>\n",
       "</table>\n",
       "</div>"
      ],
      "text/plain": [
       "   Unnamed: 0     Area         Item  Year  hg/ha_yield  \\\n",
       "0           0  Albania        Maize  1990        36613   \n",
       "1           1  Albania     Potatoes  1990        66667   \n",
       "2           2  Albania  Rice, paddy  1990        23333   \n",
       "3           3  Albania      Sorghum  1990        12500   \n",
       "4           4  Albania     Soybeans  1990         7000   \n",
       "\n",
       "   average_rain_fall_mm_per_year  pesticides_tonnes  avg_temp  \n",
       "0                         1485.0              121.0     16.37  \n",
       "1                         1485.0              121.0     16.37  \n",
       "2                         1485.0              121.0     16.37  \n",
       "3                         1485.0              121.0     16.37  \n",
       "4                         1485.0              121.0     16.37  "
      ]
     },
     "execution_count": 10,
     "metadata": {},
     "output_type": "execute_result"
    }
   ],
   "source": [
    "df.head()"
   ]
  },
  {
   "cell_type": "code",
   "execution_count": 11,
   "id": "faaafa79-ea92-4017-9748-6b9d62b3d622",
   "metadata": {},
   "outputs": [
    {
     "name": "stdout",
     "output_type": "stream",
     "text": [
      "Total number of rows is 28242 and total number of columns is 8\n"
     ]
    }
   ],
   "source": [
    "print(f\"Total number of rows is {df.shape[0]} and total number of columns is {df.shape[1]}\")"
   ]
  },
  {
   "cell_type": "code",
   "execution_count": 14,
   "id": "0910759e-e619-48b1-a714-99a974be3463",
   "metadata": {},
   "outputs": [
    {
     "name": "stdout",
     "output_type": "stream",
     "text": [
      "28242\n",
      "0\n"
     ]
    }
   ],
   "source": [
    "print(df['Unnamed: 0'].nunique())\n",
    "print(df['Unnamed: 0'].duplicated().sum())"
   ]
  },
  {
   "cell_type": "code",
   "execution_count": 15,
   "id": "2e4a6dba-6211-4042-898b-d70ca924c67e",
   "metadata": {},
   "outputs": [],
   "source": [
    "df.drop('Unnamed: 0', axis=1,inplace=True)"
   ]
  },
  {
   "cell_type": "code",
   "execution_count": 16,
   "id": "c94b6426-9c42-4871-aa79-aa531b696046",
   "metadata": {},
   "outputs": [
    {
     "name": "stdout",
     "output_type": "stream",
     "text": [
      "<class 'pandas.core.frame.DataFrame'>\n",
      "RangeIndex: 28242 entries, 0 to 28241\n",
      "Data columns (total 7 columns):\n",
      " #   Column                         Non-Null Count  Dtype  \n",
      "---  ------                         --------------  -----  \n",
      " 0   Area                           28242 non-null  object \n",
      " 1   Item                           28242 non-null  object \n",
      " 2   Year                           28242 non-null  int64  \n",
      " 3   hg/ha_yield                    28242 non-null  int64  \n",
      " 4   average_rain_fall_mm_per_year  28242 non-null  float64\n",
      " 5   pesticides_tonnes              28242 non-null  float64\n",
      " 6   avg_temp                       28242 non-null  float64\n",
      "dtypes: float64(3), int64(2), object(2)\n",
      "memory usage: 1.5+ MB\n"
     ]
    }
   ],
   "source": [
    "df.info()"
   ]
  },
  {
   "cell_type": "code",
   "execution_count": 19,
   "id": "b7ed1542-3c90-4eea-b6c8-8bc935b87b16",
   "metadata": {},
   "outputs": [
    {
     "data": {
      "text/html": [
       "<div>\n",
       "<style scoped>\n",
       "    .dataframe tbody tr th:only-of-type {\n",
       "        vertical-align: middle;\n",
       "    }\n",
       "\n",
       "    .dataframe tbody tr th {\n",
       "        vertical-align: top;\n",
       "    }\n",
       "\n",
       "    .dataframe thead th {\n",
       "        text-align: right;\n",
       "    }\n",
       "</style>\n",
       "<table border=\"1\" class=\"dataframe\">\n",
       "  <thead>\n",
       "    <tr style=\"text-align: right;\">\n",
       "      <th></th>\n",
       "      <th>Area</th>\n",
       "      <th>Item</th>\n",
       "      <th>Year</th>\n",
       "      <th>hg/ha_yield</th>\n",
       "      <th>average_rain_fall_mm_per_year</th>\n",
       "      <th>pesticides_tonnes</th>\n",
       "      <th>avg_temp</th>\n",
       "    </tr>\n",
       "  </thead>\n",
       "  <tbody>\n",
       "    <tr>\n",
       "      <th>count</th>\n",
       "      <td>28242</td>\n",
       "      <td>28242</td>\n",
       "      <td>28242.000000</td>\n",
       "      <td>28242.000000</td>\n",
       "      <td>28242.00000</td>\n",
       "      <td>28242.000000</td>\n",
       "      <td>28242.000000</td>\n",
       "    </tr>\n",
       "    <tr>\n",
       "      <th>unique</th>\n",
       "      <td>101</td>\n",
       "      <td>10</td>\n",
       "      <td>NaN</td>\n",
       "      <td>NaN</td>\n",
       "      <td>NaN</td>\n",
       "      <td>NaN</td>\n",
       "      <td>NaN</td>\n",
       "    </tr>\n",
       "    <tr>\n",
       "      <th>top</th>\n",
       "      <td>India</td>\n",
       "      <td>Potatoes</td>\n",
       "      <td>NaN</td>\n",
       "      <td>NaN</td>\n",
       "      <td>NaN</td>\n",
       "      <td>NaN</td>\n",
       "      <td>NaN</td>\n",
       "    </tr>\n",
       "    <tr>\n",
       "      <th>freq</th>\n",
       "      <td>4048</td>\n",
       "      <td>4276</td>\n",
       "      <td>NaN</td>\n",
       "      <td>NaN</td>\n",
       "      <td>NaN</td>\n",
       "      <td>NaN</td>\n",
       "      <td>NaN</td>\n",
       "    </tr>\n",
       "    <tr>\n",
       "      <th>mean</th>\n",
       "      <td>NaN</td>\n",
       "      <td>NaN</td>\n",
       "      <td>2001.544296</td>\n",
       "      <td>77053.332094</td>\n",
       "      <td>1149.05598</td>\n",
       "      <td>37076.909344</td>\n",
       "      <td>20.542627</td>\n",
       "    </tr>\n",
       "    <tr>\n",
       "      <th>std</th>\n",
       "      <td>NaN</td>\n",
       "      <td>NaN</td>\n",
       "      <td>7.051905</td>\n",
       "      <td>84956.612897</td>\n",
       "      <td>709.81215</td>\n",
       "      <td>59958.784665</td>\n",
       "      <td>6.312051</td>\n",
       "    </tr>\n",
       "    <tr>\n",
       "      <th>min</th>\n",
       "      <td>NaN</td>\n",
       "      <td>NaN</td>\n",
       "      <td>1990.000000</td>\n",
       "      <td>50.000000</td>\n",
       "      <td>51.00000</td>\n",
       "      <td>0.040000</td>\n",
       "      <td>1.300000</td>\n",
       "    </tr>\n",
       "    <tr>\n",
       "      <th>25%</th>\n",
       "      <td>NaN</td>\n",
       "      <td>NaN</td>\n",
       "      <td>1995.000000</td>\n",
       "      <td>19919.250000</td>\n",
       "      <td>593.00000</td>\n",
       "      <td>1702.000000</td>\n",
       "      <td>16.702500</td>\n",
       "    </tr>\n",
       "    <tr>\n",
       "      <th>50%</th>\n",
       "      <td>NaN</td>\n",
       "      <td>NaN</td>\n",
       "      <td>2001.000000</td>\n",
       "      <td>38295.000000</td>\n",
       "      <td>1083.00000</td>\n",
       "      <td>17529.440000</td>\n",
       "      <td>21.510000</td>\n",
       "    </tr>\n",
       "    <tr>\n",
       "      <th>75%</th>\n",
       "      <td>NaN</td>\n",
       "      <td>NaN</td>\n",
       "      <td>2008.000000</td>\n",
       "      <td>104676.750000</td>\n",
       "      <td>1668.00000</td>\n",
       "      <td>48687.880000</td>\n",
       "      <td>26.000000</td>\n",
       "    </tr>\n",
       "    <tr>\n",
       "      <th>max</th>\n",
       "      <td>NaN</td>\n",
       "      <td>NaN</td>\n",
       "      <td>2013.000000</td>\n",
       "      <td>501412.000000</td>\n",
       "      <td>3240.00000</td>\n",
       "      <td>367778.000000</td>\n",
       "      <td>30.650000</td>\n",
       "    </tr>\n",
       "  </tbody>\n",
       "</table>\n",
       "</div>"
      ],
      "text/plain": [
       "         Area      Item          Year    hg/ha_yield  \\\n",
       "count   28242     28242  28242.000000   28242.000000   \n",
       "unique    101        10           NaN            NaN   \n",
       "top     India  Potatoes           NaN            NaN   \n",
       "freq     4048      4276           NaN            NaN   \n",
       "mean      NaN       NaN   2001.544296   77053.332094   \n",
       "std       NaN       NaN      7.051905   84956.612897   \n",
       "min       NaN       NaN   1990.000000      50.000000   \n",
       "25%       NaN       NaN   1995.000000   19919.250000   \n",
       "50%       NaN       NaN   2001.000000   38295.000000   \n",
       "75%       NaN       NaN   2008.000000  104676.750000   \n",
       "max       NaN       NaN   2013.000000  501412.000000   \n",
       "\n",
       "        average_rain_fall_mm_per_year  pesticides_tonnes      avg_temp  \n",
       "count                     28242.00000       28242.000000  28242.000000  \n",
       "unique                            NaN                NaN           NaN  \n",
       "top                               NaN                NaN           NaN  \n",
       "freq                              NaN                NaN           NaN  \n",
       "mean                       1149.05598       37076.909344     20.542627  \n",
       "std                         709.81215       59958.784665      6.312051  \n",
       "min                          51.00000           0.040000      1.300000  \n",
       "25%                         593.00000        1702.000000     16.702500  \n",
       "50%                        1083.00000       17529.440000     21.510000  \n",
       "75%                        1668.00000       48687.880000     26.000000  \n",
       "max                        3240.00000      367778.000000     30.650000  "
      ]
     },
     "execution_count": 19,
     "metadata": {},
     "output_type": "execute_result"
    }
   ],
   "source": [
    "df.describe(include='all')"
   ]
  },
  {
   "cell_type": "code",
   "execution_count": 20,
   "id": "3bc9e536-29a6-45e1-a0a5-0774bfe2dda6",
   "metadata": {},
   "outputs": [],
   "source": [
    "df.rename(columns={'Area':'Country','Item':'Crop', 'hg/ha_yield':'hg_ha_yield' }, inplace=True)"
   ]
  },
  {
   "cell_type": "code",
   "execution_count": 23,
   "id": "d5f148b3-f291-4131-b372-77de2e193654",
   "metadata": {},
   "outputs": [],
   "source": [
    "col = ['Year', 'average_rain_fall_mm_per_year','pesticides_tonnes', 'avg_temp', 'Country', 'Crop', 'hg_ha_yield']\n",
    "df = df[col]\n",
    "X = df.drop(columns='hg_ha_yield',axis=1)\n",
    "y = df['hg_ha_yield']"
   ]
  },
  {
   "cell_type": "code",
   "execution_count": 24,
   "id": "220bd92a-6d24-4709-a5b7-bb62c3a9618b",
   "metadata": {},
   "outputs": [],
   "source": [
    "X_train,X_test, y_train, y_test = train_test_split(X,y,test_size=0.2, random_state=42, shuffle=True)"
   ]
  },
  {
   "cell_type": "code",
   "execution_count": 25,
   "id": "88c00cac-6dbf-4cc2-b31d-879e2deacd16",
   "metadata": {},
   "outputs": [
    {
     "data": {
      "text/html": [
       "<div>\n",
       "<style scoped>\n",
       "    .dataframe tbody tr th:only-of-type {\n",
       "        vertical-align: middle;\n",
       "    }\n",
       "\n",
       "    .dataframe tbody tr th {\n",
       "        vertical-align: top;\n",
       "    }\n",
       "\n",
       "    .dataframe thead th {\n",
       "        text-align: right;\n",
       "    }\n",
       "</style>\n",
       "<table border=\"1\" class=\"dataframe\">\n",
       "  <thead>\n",
       "    <tr style=\"text-align: right;\">\n",
       "      <th></th>\n",
       "      <th>Year</th>\n",
       "      <th>average_rain_fall_mm_per_year</th>\n",
       "      <th>pesticides_tonnes</th>\n",
       "      <th>avg_temp</th>\n",
       "      <th>Country</th>\n",
       "      <th>Crop</th>\n",
       "    </tr>\n",
       "  </thead>\n",
       "  <tbody>\n",
       "    <tr>\n",
       "      <th>5493</th>\n",
       "      <td>2005</td>\n",
       "      <td>1604.0</td>\n",
       "      <td>829.59</td>\n",
       "      <td>25.36</td>\n",
       "      <td>Cameroon</td>\n",
       "      <td>Sorghum</td>\n",
       "    </tr>\n",
       "    <tr>\n",
       "      <th>10969</th>\n",
       "      <td>1992</td>\n",
       "      <td>1083.0</td>\n",
       "      <td>70791.00</td>\n",
       "      <td>25.91</td>\n",
       "      <td>India</td>\n",
       "      <td>Soybeans</td>\n",
       "    </tr>\n",
       "    <tr>\n",
       "      <th>2001</th>\n",
       "      <td>1997</td>\n",
       "      <td>1292.0</td>\n",
       "      <td>484.59</td>\n",
       "      <td>25.81</td>\n",
       "      <td>Bahamas</td>\n",
       "      <td>Cassava</td>\n",
       "    </tr>\n",
       "    <tr>\n",
       "      <th>22157</th>\n",
       "      <td>1997</td>\n",
       "      <td>494.0</td>\n",
       "      <td>16936.00</td>\n",
       "      <td>23.76</td>\n",
       "      <td>Pakistan</td>\n",
       "      <td>Potatoes</td>\n",
       "    </tr>\n",
       "    <tr>\n",
       "      <th>311</th>\n",
       "      <td>2005</td>\n",
       "      <td>1010.0</td>\n",
       "      <td>40.00</td>\n",
       "      <td>24.41</td>\n",
       "      <td>Angola</td>\n",
       "      <td>Sweet potatoes</td>\n",
       "    </tr>\n",
       "  </tbody>\n",
       "</table>\n",
       "</div>"
      ],
      "text/plain": [
       "       Year  average_rain_fall_mm_per_year  pesticides_tonnes  avg_temp  \\\n",
       "5493   2005                         1604.0             829.59     25.36   \n",
       "10969  1992                         1083.0           70791.00     25.91   \n",
       "2001   1997                         1292.0             484.59     25.81   \n",
       "22157  1997                          494.0           16936.00     23.76   \n",
       "311    2005                         1010.0              40.00     24.41   \n",
       "\n",
       "        Country            Crop  \n",
       "5493   Cameroon         Sorghum  \n",
       "10969     India        Soybeans  \n",
       "2001    Bahamas         Cassava  \n",
       "22157  Pakistan        Potatoes  \n",
       "311      Angola  Sweet potatoes  "
      ]
     },
     "execution_count": 25,
     "metadata": {},
     "output_type": "execute_result"
    }
   ],
   "source": [
    "X_train.head()"
   ]
  },
  {
   "cell_type": "code",
   "execution_count": 26,
   "id": "288db69f-5763-47fc-b4b9-8b7b0b903066",
   "metadata": {},
   "outputs": [],
   "source": [
    "ohe = OneHotEncoder(drop='first')\n",
    "sc = StandardScaler()\n",
    "preprocesser = ColumnTransformer(\n",
    "    transformers=[\n",
    "        ('StandardScale', sc, [0, 1, 2, 3]),\n",
    "        ('OneHotEncoder', ohe, [4,5]),\n",
    "    ],\n",
    "    remainder='passthrough'\n",
    ")"
   ]
  },
  {
   "cell_type": "code",
   "execution_count": 27,
   "id": "c83e0ea3-956b-4991-920f-8437709d1f4d",
   "metadata": {},
   "outputs": [],
   "source": [
    "X_train = preprocesser.fit_transform(X_train)\n",
    "X_test = preprocesser.fit_transform(X_test)"
   ]
  },
  {
   "cell_type": "code",
   "execution_count": 30,
   "id": "bee44bb9-6a28-47fe-b507-b2a663702eb8",
   "metadata": {},
   "outputs": [
    {
     "name": "stdout",
     "output_type": "stream",
     "text": [
      "LinearRegression : mae : 29582.642594872577 score : 0.7551898506730755\n",
      "Lasso : mae : 29567.231138377196 score : 0.7551536231326947\n",
      "Ridge : mae : 29530.1108430509 score : 0.7552700451351657\n",
      "DecisionTreeRegressor : mae : 6433.794476898566 score : 0.9543355133344664\n"
     ]
    }
   ],
   "source": [
    "models = {\n",
    "    'LinearRegression': LinearRegression(),\n",
    "    'Lasso': Lasso(),\n",
    "    'Ridge' : Ridge(),\n",
    "    'DecisionTreeRegressor' :DecisionTreeRegressor()\n",
    "}\n",
    "for name, model in models.items():\n",
    "    model.fit(X_train,y_train)\n",
    "    y_pred = model.predict(X_test)\n",
    "    print(f\"{name} : mae : {mean_absolute_error(y_test,y_pred)} score : {r2_score(y_test,y_pred)}\")"
   ]
  },
  {
   "cell_type": "code",
   "execution_count": 32,
   "id": "704ff71a-9f1d-4f4f-8fb0-68b55ebe8ea0",
   "metadata": {},
   "outputs": [],
   "source": [
    "DTR = DecisionTreeRegressor()\n",
    "DTR.fit(X_train,y_train)\n",
    "y_pred = DTR.predict(X_test)"
   ]
  },
  {
   "cell_type": "code",
   "execution_count": 34,
   "id": "6b4c93be-fc6e-4af2-a13e-5515e3f01fee",
   "metadata": {},
   "outputs": [
    {
     "data": {
      "text/plain": [
       "array([24876.])"
      ]
     },
     "execution_count": 34,
     "metadata": {},
     "output_type": "execute_result"
    }
   ],
   "source": [
    "def prediction(Year, average_rain_fall_mm_per_year, pesticides_tonnes, avg_temp, Country, Crop):\n",
    "    features = np.array([[Year, average_rain_fall_mm_per_year, pesticides_tonnes, avg_temp, Country, Crop]], dtype=object)\n",
    "    transformed_features = preprocesser.transform(features)\n",
    "    predicted_yield = DTR.predict(transformed_features).reshape(1, -1)\n",
    "\n",
    "    return predicted_yield[0]\n",
    "\n",
    "Year = 1990\n",
    "average_rain_fall_mm_per_year =1485.0\n",
    "pesticides_tonnes = 121.00\n",
    "avg_temp = 16.37\n",
    "Area = 'Albania'\n",
    "Item = 'Maize'\n",
    "result = prediction(Year, average_rain_fall_mm_per_year, pesticides_tonnes, avg_temp, Area, Item)\n",
    "result"
   ]
  },
  {
   "cell_type": "code",
   "execution_count": 42,
   "id": "3ee0be2b-8e92-4131-9d2d-9ca65ceb5bc1",
   "metadata": {},
   "outputs": [
    {
     "data": {
      "text/plain": [
       "['cropYeild_model.pkl']"
      ]
     },
     "execution_count": 42,
     "metadata": {},
     "output_type": "execute_result"
    }
   ],
   "source": [
    "import joblib\n",
    "\n",
    "joblib.dump(DTR, 'cropYeild_model.pkl')"
   ]
  },
  {
   "cell_type": "code",
   "execution_count": 43,
   "id": "def72a19-3e53-4932-97ab-49f4c99aa5d1",
   "metadata": {},
   "outputs": [],
   "source": [
    "DTR_loaded = joblib.load('cropYeild_model.pkl')\n",
    "result = DTR_loaded.predict(transformed_features)"
   ]
  },
  {
   "cell_type": "code",
   "execution_count": 44,
   "id": "fab73120-fdcf-42af-a0fb-0c73ec9e660c",
   "metadata": {},
   "outputs": [
    {
     "name": "stdout",
     "output_type": "stream",
     "text": [
      "Predicted crop yield for Wheat in India (2000): 27785.0\n"
     ]
    }
   ],
   "source": [
    "Year = 2000\n",
    "average_rain_fall_mm_per_year = 1000.0\n",
    "pesticides_tonnes = 50.0\n",
    "avg_temp = 24.0\n",
    "Country = 'India'\n",
    "Crop = 'Wheat'\n",
    "\n",
    "features = np.array([[Year, average_rain_fall_mm_per_year, pesticides_tonnes, avg_temp, Country, Crop]], dtype=object)\n",
    "transformed_features = preprocesser.transform(features)\n",
    "\n",
    "result = DTR_loaded.predict(transformed_features)\n",
    "\n",
    "print(f\"Predicted crop yield for {Crop} in {Country} ({Year}): {result[0]}\")"
   ]
  },
  {
   "cell_type": "code",
   "execution_count": 45,
   "id": "ade82942-cf1d-4f2f-8548-a6220faac6eb",
   "metadata": {},
   "outputs": [
    {
     "name": "stdout",
     "output_type": "stream",
     "text": [
      "Predicted crop yield for Maize in Brazil (2010): 16569.0\n"
     ]
    }
   ],
   "source": [
    "Year = 2010\n",
    "average_rain_fall_mm_per_year = 1500.0\n",
    "pesticides_tonnes = 90.0\n",
    "avg_temp = 18.5\n",
    "Country = 'Brazil'\n",
    "Crop = 'Maize'\n",
    "\n",
    "features = np.array([[Year, average_rain_fall_mm_per_year, pesticides_tonnes, avg_temp, Country, Crop]], dtype=object)\n",
    "transformed_features = preprocesser.transform(features)\n",
    "\n",
    "result = DTR_loaded.predict(transformed_features)\n",
    "\n",
    "print(f\"Predicted crop yield for {Crop} in {Country} ({Year}): {result[0]}\")"
   ]
  },
  {
   "cell_type": "code",
   "execution_count": null,
   "id": "736d1e51-ac06-4532-afb3-88e020a96c8b",
   "metadata": {},
   "outputs": [],
   "source": []
  }
 ],
 "metadata": {
  "kernelspec": {
   "display_name": "Python 3 (ipykernel)",
   "language": "python",
   "name": "python3"
  },
  "language_info": {
   "codemirror_mode": {
    "name": "ipython",
    "version": 3
   },
   "file_extension": ".py",
   "mimetype": "text/x-python",
   "name": "python",
   "nbconvert_exporter": "python",
   "pygments_lexer": "ipython3",
   "version": "3.11.7"
  }
 },
 "nbformat": 4,
 "nbformat_minor": 5
}
